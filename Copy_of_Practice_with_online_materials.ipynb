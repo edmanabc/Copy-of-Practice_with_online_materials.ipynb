{
  "nbformat": 4,
  "nbformat_minor": 0,
  "metadata": {
    "colab": {
      "provenance": [],
      "authorship_tag": "ABX9TyMjWEnKvKdWjmnZvCvP8dBD",
      "include_colab_link": true
    },
    "kernelspec": {
      "name": "python3",
      "display_name": "Python 3"
    },
    "language_info": {
      "name": "python"
    }
  },
  "cells": [
    {
      "cell_type": "markdown",
      "metadata": {
        "id": "view-in-github",
        "colab_type": "text"
      },
      "source": [
        "<a href=\"https://colab.research.google.com/github/edmanabc/Copy-of-Practice_with_online_materials.ipynb/blob/main/Copy_of_Practice_with_online_materials.ipynb\" target=\"_parent\"><img src=\"https://colab.research.google.com/assets/colab-badge.svg\" alt=\"Open In Colab\"/></a>"
      ]
    },
    {
      "cell_type": "markdown",
      "source": [
        "Opening with Hello World"
      ],
      "metadata": {
        "id": "_qGHB2MyCcW3"
      }
    },
    {
      "cell_type": "code",
      "source": [
        "print(\"Hello World\")"
      ],
      "metadata": {
        "colab": {
          "base_uri": "https://localhost:8080/"
        },
        "id": "L0eshK6BCg_M",
        "outputId": "f00e762b-2dca-4da9-e70c-ad5e207fe731"
      },
      "execution_count": null,
      "outputs": [
        {
          "output_type": "stream",
          "name": "stdout",
          "text": [
            "Hello World\n"
          ]
        }
      ]
    },
    {
      "cell_type": "markdown",
      "source": [
        "Set operations"
      ],
      "metadata": {
        "id": "HvkMfCctk9C_"
      }
    },
    {
      "cell_type": "code",
      "execution_count": null,
      "metadata": {
        "id": "XHBOw_cxkznP"
      },
      "outputs": [],
      "source": [
        "Datascientist = {\"Python\", \"R\", \"ML\", \"SQL\", \"PowerBI\", \"Tableau\"}\n",
        "DataEngineer = {\"VB\", \"SQL\", \"EXCEL\", \"Hadoop\", \"PowerBI\"}"
      ]
    },
    {
      "cell_type": "code",
      "source": [
        "#The union operator '|' combines two datasets to form a new dataset. The new dataset contains items from both datasets.\n",
        "print(Datascientist | DataEngineer) "
      ],
      "metadata": {
        "colab": {
          "base_uri": "https://localhost:8080/"
        },
        "id": "ywNBRxeblEZa",
        "outputId": "78addc0d-6e43-4628-8e89-18633e9d40e6"
      },
      "execution_count": null,
      "outputs": [
        {
          "output_type": "stream",
          "name": "stdout",
          "text": [
            "{'VB', 'Hadoop', 'R', 'Tableau', 'SQL', 'PowerBI', 'Python', 'EXCEL', 'ML'}\n"
          ]
        }
      ]
    },
    {
      "cell_type": "code",
      "source": [
        "#The same result can be accomplished using the union() method:\n",
        "print(Datascientist.union(DataEngineer))"
      ],
      "metadata": {
        "colab": {
          "base_uri": "https://localhost:8080/"
        },
        "id": "IhBZ1h1jmcEy",
        "outputId": "bf485a34-0afb-440e-9c60-e141d4fbf67c"
      },
      "execution_count": null,
      "outputs": [
        {
          "output_type": "stream",
          "name": "stdout",
          "text": [
            "{'VB', 'Hadoop', 'R', 'Tableau', 'SQL', 'PowerBI', 'Python', 'EXCEL', 'ML'}\n"
          ]
        }
      ]
    },
    {
      "cell_type": "code",
      "source": [
        "#The intersection operator '&' only gets items that are common to both datasets. \n",
        "print(Datascientist & DataEngineer) "
      ],
      "metadata": {
        "colab": {
          "base_uri": "https://localhost:8080/"
        },
        "id": "aC1mmwrQm-dw",
        "outputId": "f41a6607-e56f-4de7-e438-66205bd341a1"
      },
      "execution_count": null,
      "outputs": [
        {
          "output_type": "stream",
          "name": "stdout",
          "text": [
            "{'SQL', 'PowerBI'}\n"
          ]
        }
      ]
    },
    {
      "cell_type": "code",
      "source": [
        "#The same result can be accomplished using the intersection() method:\n",
        "print(Datascientist.intersection(DataEngineer))"
      ],
      "metadata": {
        "colab": {
          "base_uri": "https://localhost:8080/"
        },
        "id": "jEMVGWq9nNjw",
        "outputId": "0e860758-4a43-423c-e6e9-9e28047403cb"
      },
      "execution_count": null,
      "outputs": [
        {
          "output_type": "stream",
          "name": "stdout",
          "text": [
            "{'SQL', 'PowerBI'}\n"
          ]
        }
      ]
    },
    {
      "cell_type": "code",
      "source": [
        "#The difference operator '-' gets items that are in the first dataset but not in the second dataset.\n",
        "print(Datascientist - DataEngineer) "
      ],
      "metadata": {
        "colab": {
          "base_uri": "https://localhost:8080/"
        },
        "id": "PzCaahyJnlAw",
        "outputId": "ebd0083a-1538-4ada-d280-07617d40869f"
      },
      "execution_count": null,
      "outputs": [
        {
          "output_type": "stream",
          "name": "stdout",
          "text": [
            "{'Python', 'R', 'ML', 'Tableau'}\n"
          ]
        }
      ]
    },
    {
      "cell_type": "code",
      "source": [
        "#The same result can be accomplished using the difference() method:\n",
        "print(Datascientist.difference(DataEngineer))"
      ],
      "metadata": {
        "colab": {
          "base_uri": "https://localhost:8080/"
        },
        "id": "Or584Byfn0Ij",
        "outputId": "56896e3e-398a-45ca-eab3-15c4208ad69f"
      },
      "execution_count": null,
      "outputs": [
        {
          "output_type": "stream",
          "name": "stdout",
          "text": [
            "{'Python', 'R', 'ML', 'Tableau'}\n"
          ]
        }
      ]
    },
    {
      "cell_type": "code",
      "source": [
        "#The symmetric difference operator '^' gets items included in either dataset but not items that are included in both datasets (excluding the intersection).\n",
        "print(Datascientist ^ DataEngineer)"
      ],
      "metadata": {
        "colab": {
          "base_uri": "https://localhost:8080/"
        },
        "id": "E63RhYE2oLSq",
        "outputId": "997acd53-3a29-47e5-acd9-a6ca5c4a35de"
      },
      "execution_count": null,
      "outputs": [
        {
          "output_type": "stream",
          "name": "stdout",
          "text": [
            "{'VB', 'Hadoop', 'R', 'Python', 'EXCEL', 'Tableau', 'ML'}\n"
          ]
        }
      ]
    },
    {
      "cell_type": "code",
      "source": [
        "#The same result can be accomplished using the difference() method:\n",
        "print(Datascientist.symmetric_difference(DataEngineer))"
      ],
      "metadata": {
        "colab": {
          "base_uri": "https://localhost:8080/"
        },
        "id": "DjgDPU5ZokGh",
        "outputId": "3529929e-7caf-4e6b-cdbc-4a3a1e004bb3"
      },
      "execution_count": null,
      "outputs": [
        {
          "output_type": "stream",
          "name": "stdout",
          "text": [
            "{'VB', 'Hadoop', 'R', 'Python', 'EXCEL', 'Tableau', 'ML'}\n"
          ]
        }
      ]
    },
    {
      "cell_type": "markdown",
      "source": [
        "Getting help with Python"
      ],
      "metadata": {
        "id": "1PQNVkuT5UBv"
      }
    },
    {
      "cell_type": "code",
      "source": [
        "#If needing help with a particular function, type the function name into a cell within Python followed by a question mark. \n",
        "round?"
      ],
      "metadata": {
        "id": "Bsv7R1bv5ZLX"
      },
      "execution_count": null,
      "outputs": []
    }
  ]
}